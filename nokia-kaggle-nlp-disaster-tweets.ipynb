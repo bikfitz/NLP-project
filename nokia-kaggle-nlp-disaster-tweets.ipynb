{
 "cells": [
  {
   "cell_type": "code",
   "execution_count": 1,
   "id": "21f63ef5",
   "metadata": {
    "_cell_guid": "b1076dfc-b9ad-4769-8c92-a6c4dae69d19",
    "_uuid": "8f2839f25d086af736a60e9eeb907d3b93b6e0e5",
    "execution": {
     "iopub.execute_input": "2023-08-22T17:02:24.409148Z",
     "iopub.status.busy": "2023-08-22T17:02:24.408594Z",
     "iopub.status.idle": "2023-08-22T17:02:24.422002Z",
     "shell.execute_reply": "2023-08-22T17:02:24.421109Z"
    },
    "papermill": {
     "duration": 0.02603,
     "end_time": "2023-08-22T17:02:24.424042",
     "exception": false,
     "start_time": "2023-08-22T17:02:24.398012",
     "status": "completed"
    },
    "tags": []
   },
   "outputs": [],
   "source": [
    "# This Python 3 environment comes with many helpful analytics libraries installed\n",
    "# It is defined by the kaggle/python Docker image: https://github.com/kaggle/docker-python\n",
    "# For example, here's several helpful packages to load\n",
    "\n",
    "import numpy as np # linear algebra\n",
    "import pandas as pd # data processing, CSV file I/O (e.g. pd.read_csv)\n",
    "\n",
    "# Input data files are available in the read-only \"../input/\" directory\n",
    "# For example, running this (by clicking run or pressing Shift+Enter) will list all files under the input directory\n",
    "\n",
    "import os\n",
    "\n",
    "# You can write up to 20GB to the current directory (/kaggle/working/) that gets preserved as output when you create a version using \"Save & Run All\" \n",
    "# You can also write temporary files to /kaggle/temp/, but they won't be saved outside of the current session"
   ]
  },
  {
   "cell_type": "markdown",
   "id": "cf00ce4e",
   "metadata": {
    "papermill": {
     "duration": 0.007738,
     "end_time": "2023-08-22T17:02:24.439734",
     "exception": false,
     "start_time": "2023-08-22T17:02:24.431996",
     "status": "completed"
    },
    "tags": []
   },
   "source": [
    "Importing and checking data"
   ]
  },
  {
   "cell_type": "code",
   "execution_count": 2,
   "id": "817c95dd",
   "metadata": {
    "execution": {
     "iopub.execute_input": "2023-08-22T17:02:24.456802Z",
     "iopub.status.busy": "2023-08-22T17:02:24.456006Z",
     "iopub.status.idle": "2023-08-22T17:02:24.571974Z",
     "shell.execute_reply": "2023-08-22T17:02:24.570995Z"
    },
    "papermill": {
     "duration": 0.12694,
     "end_time": "2023-08-22T17:02:24.574524",
     "exception": false,
     "start_time": "2023-08-22T17:02:24.447584",
     "status": "completed"
    },
    "tags": []
   },
   "outputs": [],
   "source": [
    "train_df = pd.read_csv('/kaggle/input/nlpgettingstarted/train.csv')\n",
    "test_df = pd.read_csv('/kaggle/input/nlpgettingstarted/test.csv')\n",
    "sample_sub_df = pd.read_csv('/kaggle/input/nlpgettingstarted/sample_submission.csv')\n",
    "\n",
    "train_df.head() # column: 'keyword' and 'location' are a bit blank so those columns will be left out for now.\n",
    "train_clean_df = train_df.drop(['keyword', 'location'], axis=1)"
   ]
  },
  {
   "cell_type": "code",
   "execution_count": 3,
   "id": "5df6200c",
   "metadata": {
    "execution": {
     "iopub.execute_input": "2023-08-22T17:02:24.592876Z",
     "iopub.status.busy": "2023-08-22T17:02:24.591335Z",
     "iopub.status.idle": "2023-08-22T17:02:24.597413Z",
     "shell.execute_reply": "2023-08-22T17:02:24.596403Z"
    },
    "papermill": {
     "duration": 0.01686,
     "end_time": "2023-08-22T17:02:24.599468",
     "exception": false,
     "start_time": "2023-08-22T17:02:24.582608",
     "status": "completed"
    },
    "tags": []
   },
   "outputs": [],
   "source": [
    "test_df.head()\n",
    "test_clean_df = test_df.drop(['keyword', 'location'], axis=1)"
   ]
  },
  {
   "cell_type": "markdown",
   "id": "7c7c0582",
   "metadata": {
    "papermill": {
     "duration": 0.007296,
     "end_time": "2023-08-22T17:02:24.614447",
     "exception": false,
     "start_time": "2023-08-22T17:02:24.607151",
     "status": "completed"
    },
    "tags": []
   },
   "source": [
    "Data cleaning process: For training data only the words should be existing in the text, no special characters (@,#,&...)"
   ]
  },
  {
   "cell_type": "code",
   "execution_count": 4,
   "id": "62060a3a",
   "metadata": {
    "execution": {
     "iopub.execute_input": "2023-08-22T17:02:24.633224Z",
     "iopub.status.busy": "2023-08-22T17:02:24.631697Z",
     "iopub.status.idle": "2023-08-22T17:02:29.908171Z",
     "shell.execute_reply": "2023-08-22T17:02:29.907129Z"
    },
    "papermill": {
     "duration": 5.288262,
     "end_time": "2023-08-22T17:02:29.910644",
     "exception": false,
     "start_time": "2023-08-22T17:02:24.622382",
     "status": "completed"
    },
    "tags": []
   },
   "outputs": [
    {
     "name": "stderr",
     "output_type": "stream",
     "text": [
      "/opt/conda/lib/python3.10/site-packages/scipy/__init__.py:146: UserWarning: A NumPy version >=1.16.5 and <1.23.0 is required for this version of SciPy (detected version 1.23.5\n",
      "  warnings.warn(f\"A NumPy version >={np_minversion} and <{np_maxversion}\"\n"
     ]
    }
   ],
   "source": [
    "from nltk.corpus import stopwords\n",
    "from nltk.tokenize import word_tokenize\n",
    "import re\n",
    "import string\n",
    "\n",
    "def clean_text(text):\n",
    "    text = text.lower()\n",
    "    text = re.sub('\\[.*?\\]', '', text)\n",
    "    text = re.sub('https?://\\S+|www\\.\\S+', '', text)\n",
    "    text = re.sub('<.*?>+', '', text)\n",
    "    text = re.sub('[%s]' % re.escape(string.punctuation), '', text)\n",
    "    text = re.sub('\\n', '', text)\n",
    "    text = re.sub('\\w*\\d\\w*', '', text)\n",
    "    return text\n",
    "\n",
    "stop_words = set(stopwords.words('english'))\n",
    "\n",
    "def remove_stopwords(text):\n",
    "    word_tokens = word_tokenize(text)\n",
    "    filtered_text = [word for word in word_tokens if word not in stop_words]\n",
    "    return ' '.join(filtered_text)  # Join the words back into a string\n",
    "\n",
    "train_clean_df['text'] = train_clean_df['text'].apply(lambda x: clean_text(x))\n",
    "train_clean_df['text'] = train_clean_df['text'].apply(lambda x: remove_stopwords(x))\n",
    "\n",
    "test_clean_df['text'] = test_clean_df['text'].apply(lambda x: clean_text(x))\n",
    "test_clean_df['text'] = test_clean_df['text'].apply(lambda x: remove_stopwords(x))"
   ]
  },
  {
   "cell_type": "code",
   "execution_count": 5,
   "id": "b98cbc64",
   "metadata": {
    "execution": {
     "iopub.execute_input": "2023-08-22T17:02:29.929983Z",
     "iopub.status.busy": "2023-08-22T17:02:29.929638Z",
     "iopub.status.idle": "2023-08-22T17:02:29.949146Z",
     "shell.execute_reply": "2023-08-22T17:02:29.948268Z"
    },
    "papermill": {
     "duration": 0.03094,
     "end_time": "2023-08-22T17:02:29.950953",
     "exception": false,
     "start_time": "2023-08-22T17:02:29.920013",
     "status": "completed"
    },
    "tags": []
   },
   "outputs": [
    {
     "data": {
      "text/plain": [
       "0    4342\n",
       "1    3271\n",
       "Name: target, dtype: int64"
      ]
     },
     "execution_count": 5,
     "metadata": {},
     "output_type": "execute_result"
    }
   ],
   "source": [
    "train_clean_df[train_clean_df.target == 0]\n",
    "\n",
    "# \"saving\" the cleaned dataset by copying\n",
    "train_df = train_clean_df.copy()\n",
    "test_df = test_clean_df.copy()\n",
    "\n",
    "train_df.target.value_counts()"
   ]
  },
  {
   "cell_type": "markdown",
   "id": "5fbb1382",
   "metadata": {
    "papermill": {
     "duration": 0.0075,
     "end_time": "2023-08-22T17:02:29.966636",
     "exception": false,
     "start_time": "2023-08-22T17:02:29.959136",
     "status": "completed"
    },
    "tags": []
   },
   "source": [
    "Loading pretrained BERT model \n",
    "\n",
    "There are some pretrained BERT models, uncased is loaded because lower and uppercase letters are not needed to differentiate upper cased letter words and lower cased ones and large for better accuracy."
   ]
  },
  {
   "cell_type": "code",
   "execution_count": 6,
   "id": "aa3a7d95",
   "metadata": {
    "execution": {
     "iopub.execute_input": "2023-08-22T17:02:29.983956Z",
     "iopub.status.busy": "2023-08-22T17:02:29.983660Z",
     "iopub.status.idle": "2023-08-22T17:03:22.537955Z",
     "shell.execute_reply": "2023-08-22T17:03:22.537012Z"
    },
    "papermill": {
     "duration": 52.565701,
     "end_time": "2023-08-22T17:03:22.540385",
     "exception": false,
     "start_time": "2023-08-22T17:02:29.974684",
     "status": "completed"
    },
    "tags": []
   },
   "outputs": [
    {
     "name": "stderr",
     "output_type": "stream",
     "text": [
      "/opt/conda/lib/python3.10/site-packages/tensorflow_io/python/ops/__init__.py:98: UserWarning: unable to load libtensorflow_io_plugins.so: unable to open file: libtensorflow_io_plugins.so, from paths: ['/opt/conda/lib/python3.10/site-packages/tensorflow_io/python/ops/libtensorflow_io_plugins.so']\n",
      "caused by: ['/opt/conda/lib/python3.10/site-packages/tensorflow_io/python/ops/libtensorflow_io_plugins.so: undefined symbol: _ZN3tsl6StatusC1EN10tensorflow5error4CodeESt17basic_string_viewIcSt11char_traitsIcEENS_14SourceLocationE']\n",
      "  warnings.warn(f\"unable to load libtensorflow_io_plugins.so: {e}\")\n",
      "/opt/conda/lib/python3.10/site-packages/tensorflow_io/python/ops/__init__.py:104: UserWarning: file system plugins are not loaded: unable to open file: libtensorflow_io.so, from paths: ['/opt/conda/lib/python3.10/site-packages/tensorflow_io/python/ops/libtensorflow_io.so']\n",
      "caused by: ['/opt/conda/lib/python3.10/site-packages/tensorflow_io/python/ops/libtensorflow_io.so: undefined symbol: _ZTVN10tensorflow13GcsFileSystemE']\n",
      "  warnings.warn(f\"file system plugins are not loaded: {e}\")\n"
     ]
    },
    {
     "data": {
      "application/vnd.jupyter.widget-view+json": {
       "model_id": "fc85e3354bdb437fbefba948d88fb37f",
       "version_major": 2,
       "version_minor": 0
      },
      "text/plain": [
       "Downloading (…)okenizer_config.json:   0%|          | 0.00/28.0 [00:00<?, ?B/s]"
      ]
     },
     "metadata": {},
     "output_type": "display_data"
    },
    {
     "data": {
      "application/vnd.jupyter.widget-view+json": {
       "model_id": "06d73741eacb44b68f399b9934004bac",
       "version_major": 2,
       "version_minor": 0
      },
      "text/plain": [
       "Downloading (…)lve/main/config.json:   0%|          | 0.00/571 [00:00<?, ?B/s]"
      ]
     },
     "metadata": {},
     "output_type": "display_data"
    },
    {
     "data": {
      "application/vnd.jupyter.widget-view+json": {
       "model_id": "7786744f34864c798b4f56de475ba7f1",
       "version_major": 2,
       "version_minor": 0
      },
      "text/plain": [
       "Downloading (…)solve/main/vocab.txt:   0%|          | 0.00/232k [00:00<?, ?B/s]"
      ]
     },
     "metadata": {},
     "output_type": "display_data"
    },
    {
     "data": {
      "application/vnd.jupyter.widget-view+json": {
       "model_id": "ac45774ef96e4823aa5390e77231c96b",
       "version_major": 2,
       "version_minor": 0
      },
      "text/plain": [
       "Downloading (…)/main/tokenizer.json:   0%|          | 0.00/466k [00:00<?, ?B/s]"
      ]
     },
     "metadata": {},
     "output_type": "display_data"
    },
    {
     "data": {
      "application/vnd.jupyter.widget-view+json": {
       "model_id": "32a39a3838a64e56be362718140193af",
       "version_major": 2,
       "version_minor": 0
      },
      "text/plain": [
       "Downloading model.safetensors:   0%|          | 0.00/1.34G [00:00<?, ?B/s]"
      ]
     },
     "metadata": {},
     "output_type": "display_data"
    },
    {
     "name": "stderr",
     "output_type": "stream",
     "text": [
      "Some weights of the PyTorch model were not used when initializing the TF 2.0 model TFBertModel: ['cls.predictions.transform.dense.weight', 'cls.predictions.transform.dense.bias', 'cls.predictions.bias', 'cls.predictions.transform.LayerNorm.weight', 'cls.seq_relationship.weight', 'cls.seq_relationship.bias', 'cls.predictions.transform.LayerNorm.bias']\n",
      "- This IS expected if you are initializing TFBertModel from a PyTorch model trained on another task or with another architecture (e.g. initializing a TFBertForSequenceClassification model from a BertForPreTraining model).\n",
      "- This IS NOT expected if you are initializing TFBertModel from a PyTorch model that you expect to be exactly identical (e.g. initializing a TFBertForSequenceClassification model from a BertForSequenceClassification model).\n",
      "All the weights of TFBertModel were initialized from the PyTorch model.\n",
      "If your task is similar to the task the model of the checkpoint was trained on, you can already use TFBertModel for predictions without further training.\n"
     ]
    }
   ],
   "source": [
    "import transformers\n",
    "\n",
    "from transformers import AutoTokenizer,TFBertModel\n",
    "tokenizer = AutoTokenizer.from_pretrained('bert-large-uncased')\n",
    "bert = TFBertModel.from_pretrained('bert-large-uncased')"
   ]
  },
  {
   "cell_type": "code",
   "execution_count": 7,
   "id": "b15deb9d",
   "metadata": {
    "execution": {
     "iopub.execute_input": "2023-08-22T17:03:22.561262Z",
     "iopub.status.busy": "2023-08-22T17:03:22.560933Z",
     "iopub.status.idle": "2023-08-22T17:03:22.579088Z",
     "shell.execute_reply": "2023-08-22T17:03:22.578195Z"
    },
    "papermill": {
     "duration": 0.030635,
     "end_time": "2023-08-22T17:03:22.581048",
     "exception": false,
     "start_time": "2023-08-22T17:03:22.550413",
     "status": "completed"
    },
    "tags": []
   },
   "outputs": [
    {
     "name": "stdout",
     "output_type": "stream",
     "text": [
      "max text lenght: 23\n"
     ]
    }
   ],
   "source": [
    "# converting 'text' data to tokens for BERT\n",
    "\n",
    "print(\"max text lenght:\",max([len(x.split()) for x in train_df.text])) # split words by space\n"
   ]
  },
  {
   "cell_type": "code",
   "execution_count": 8,
   "id": "faf4e38c",
   "metadata": {
    "execution": {
     "iopub.execute_input": "2023-08-22T17:03:22.601708Z",
     "iopub.status.busy": "2023-08-22T17:03:22.600821Z",
     "iopub.status.idle": "2023-08-22T17:03:23.028826Z",
     "shell.execute_reply": "2023-08-22T17:03:23.027635Z"
    },
    "papermill": {
     "duration": 0.44145,
     "end_time": "2023-08-22T17:03:23.031836",
     "exception": false,
     "start_time": "2023-08-22T17:03:22.590386",
     "status": "completed"
    },
    "tags": []
   },
   "outputs": [
    {
     "data": {
      "text/plain": [
       "{'input_ids': <tf.Tensor: shape=(7613, 23), dtype=int32, numpy=\n",
       "array([[  101, 15616,  3114, ...,     0,     0,     0],\n",
       "       [  101,  3224,  2543, ...,     0,     0,     0],\n",
       "       [  101,  3901,  2356, ...,     0,     0,     0],\n",
       "       ...,\n",
       "       [  101, 12779,  7359, ...,     0,     0,     0],\n",
       "       [  101,  2610, 11538, ...,   102,     0,     0],\n",
       "       [  101,  6745,  5014, ...,     0,     0,     0]], dtype=int32)>, 'attention_mask': <tf.Tensor: shape=(7613, 23), dtype=int32, numpy=\n",
       "array([[1, 1, 1, ..., 0, 0, 0],\n",
       "       [1, 1, 1, ..., 0, 0, 0],\n",
       "       [1, 1, 1, ..., 0, 0, 0],\n",
       "       ...,\n",
       "       [1, 1, 1, ..., 0, 0, 0],\n",
       "       [1, 1, 1, ..., 1, 0, 0],\n",
       "       [1, 1, 1, ..., 0, 0, 0]], dtype=int32)>}"
      ]
     },
     "execution_count": 8,
     "metadata": {},
     "output_type": "execute_result"
    }
   ],
   "source": [
    "# creating input train data:\n",
    "# tokenizing and creating a tensor shape input\n",
    "\n",
    "x_train = tokenizer(\n",
    "    text=train_df.text.tolist(),\n",
    "    add_special_tokens=True,\n",
    "    max_length=23,\n",
    "    truncation=True, # if length is bigger then truncating the text\n",
    "    padding=True, # every text length be the same by padding\n",
    "    return_tensors='tf',\n",
    "    return_token_type_ids = False,\n",
    "    return_attention_mask = True,\n",
    "    verbose = True)\n",
    "\n",
    "x_train"
   ]
  },
  {
   "cell_type": "code",
   "execution_count": 9,
   "id": "6891ead4",
   "metadata": {
    "execution": {
     "iopub.execute_input": "2023-08-22T17:03:23.054136Z",
     "iopub.status.busy": "2023-08-22T17:03:23.053165Z",
     "iopub.status.idle": "2023-08-22T17:03:23.059701Z",
     "shell.execute_reply": "2023-08-22T17:03:23.058666Z"
    },
    "papermill": {
     "duration": 0.019786,
     "end_time": "2023-08-22T17:03:23.062348",
     "exception": false,
     "start_time": "2023-08-22T17:03:23.042562",
     "status": "completed"
    },
    "tags": []
   },
   "outputs": [
    {
     "data": {
      "text/plain": [
       "TensorShape([7613, 23])"
      ]
     },
     "execution_count": 9,
     "metadata": {},
     "output_type": "execute_result"
    }
   ],
   "source": [
    "x_train['input_ids'].shape"
   ]
  },
  {
   "cell_type": "code",
   "execution_count": 10,
   "id": "3800d6fb",
   "metadata": {
    "execution": {
     "iopub.execute_input": "2023-08-22T17:03:23.083214Z",
     "iopub.status.busy": "2023-08-22T17:03:23.082922Z",
     "iopub.status.idle": "2023-08-22T17:03:23.089420Z",
     "shell.execute_reply": "2023-08-22T17:03:23.088450Z"
    },
    "papermill": {
     "duration": 0.019277,
     "end_time": "2023-08-22T17:03:23.091720",
     "exception": false,
     "start_time": "2023-08-22T17:03:23.072443",
     "status": "completed"
    },
    "tags": []
   },
   "outputs": [
    {
     "data": {
      "text/plain": [
       "array([1, 1, 1, ..., 1, 1, 1])"
      ]
     },
     "execution_count": 10,
     "metadata": {},
     "output_type": "execute_result"
    }
   ],
   "source": [
    "# creating output train data:\n",
    "y_train = train_df.target.values\n",
    "y_train"
   ]
  },
  {
   "cell_type": "markdown",
   "id": "a574b547",
   "metadata": {
    "papermill": {
     "duration": 0.009268,
     "end_time": "2023-08-22T17:03:23.111716",
     "exception": false,
     "start_time": "2023-08-22T17:03:23.102448",
     "status": "completed"
    },
    "tags": []
   },
   "source": [
    "Building a model"
   ]
  },
  {
   "cell_type": "code",
   "execution_count": 11,
   "id": "27e08862",
   "metadata": {
    "execution": {
     "iopub.execute_input": "2023-08-22T17:03:23.139647Z",
     "iopub.status.busy": "2023-08-22T17:03:23.139380Z",
     "iopub.status.idle": "2023-08-22T17:03:23.149220Z",
     "shell.execute_reply": "2023-08-22T17:03:23.148365Z"
    },
    "papermill": {
     "duration": 0.028825,
     "end_time": "2023-08-22T17:03:23.151430",
     "exception": false,
     "start_time": "2023-08-22T17:03:23.122605",
     "status": "completed"
    },
    "tags": []
   },
   "outputs": [],
   "source": [
    "import tensorflow as tf\n",
    "from tensorflow.keras.layers import Input, Dense\n",
    "from tensorflow.keras.optimizers.legacy import Adam\n",
    "from tensorflow.keras.callbacks import EarlyStopping\n",
    "from tensorflow.keras.initializers import TruncatedNormal\n",
    "from tensorflow.keras.losses import CategoricalCrossentropy,BinaryCrossentropy\n",
    "from tensorflow.keras.metrics import CategoricalAccuracy,BinaryAccuracy\n",
    "from tensorflow.keras.utils import to_categorical\n",
    "from tensorflow.keras.utils import plot_model"
   ]
  },
  {
   "cell_type": "code",
   "execution_count": 12,
   "id": "f3b60a44",
   "metadata": {
    "execution": {
     "iopub.execute_input": "2023-08-22T17:03:23.171602Z",
     "iopub.status.busy": "2023-08-22T17:03:23.171325Z",
     "iopub.status.idle": "2023-08-22T17:03:31.795042Z",
     "shell.execute_reply": "2023-08-22T17:03:31.794111Z"
    },
    "papermill": {
     "duration": 8.636603,
     "end_time": "2023-08-22T17:03:31.797543",
     "exception": false,
     "start_time": "2023-08-22T17:03:23.160940",
     "status": "completed"
    },
    "tags": []
   },
   "outputs": [],
   "source": [
    "max_len = 23\n",
    "input_ids = Input(shape=(max_len,), dtype=tf.int32, name=\"input_ids\")\n",
    "input_mask = Input(shape=(max_len,), dtype=tf.int32, name=\"attention_mask\")\n",
    "\n",
    "# loading the BERT model:\n",
    "embeddings = bert(input_ids,attention_mask = input_mask)[1]\n",
    "\n",
    "out = tf.keras.layers.Dropout(0.2)(embeddings)\n",
    "\n",
    "out = Dense(128, activation='relu')(out)\n",
    "out = tf.keras.layers.Dropout(0.1)(out)\n",
    "out = Dense(32,activation = 'relu')(out)\n",
    "\n",
    "y = Dense(1,activation = 'sigmoid')(out)\n",
    "    \n",
    "model = tf.keras.Model(inputs=[input_ids, input_mask], outputs=y)\n",
    "model.layers[2].trainable = True"
   ]
  },
  {
   "cell_type": "code",
   "execution_count": 13,
   "id": "c5bace17",
   "metadata": {
    "execution": {
     "iopub.execute_input": "2023-08-22T17:03:31.818153Z",
     "iopub.status.busy": "2023-08-22T17:03:31.817823Z",
     "iopub.status.idle": "2023-08-22T17:03:31.895376Z",
     "shell.execute_reply": "2023-08-22T17:03:31.894425Z"
    },
    "papermill": {
     "duration": 0.090213,
     "end_time": "2023-08-22T17:03:31.897468",
     "exception": false,
     "start_time": "2023-08-22T17:03:31.807255",
     "status": "completed"
    },
    "tags": []
   },
   "outputs": [
    {
     "name": "stdout",
     "output_type": "stream",
     "text": [
      "Model: \"model\"\n",
      "__________________________________________________________________________________________________\n",
      " Layer (type)                   Output Shape         Param #     Connected to                     \n",
      "==================================================================================================\n",
      " input_ids (InputLayer)         [(None, 23)]         0           []                               \n",
      "                                                                                                  \n",
      " attention_mask (InputLayer)    [(None, 23)]         0           []                               \n",
      "                                                                                                  \n",
      " tf_bert_model (TFBertModel)    TFBaseModelOutputWi  335141888   ['input_ids[0][0]',              \n",
      "                                thPoolingAndCrossAt               'attention_mask[0][0]']         \n",
      "                                tentions(last_hidde                                               \n",
      "                                n_state=(None, 23,                                                \n",
      "                                1024),                                                            \n",
      "                                 pooler_output=(Non                                               \n",
      "                                e, 1024),                                                         \n",
      "                                 past_key_values=No                                               \n",
      "                                ne, hidden_states=N                                               \n",
      "                                one, attentions=Non                                               \n",
      "                                e, cross_attentions                                               \n",
      "                                =None)                                                            \n",
      "                                                                                                  \n",
      " dropout_73 (Dropout)           (None, 1024)         0           ['tf_bert_model[0][1]']          \n",
      "                                                                                                  \n",
      " dense (Dense)                  (None, 128)          131200      ['dropout_73[0][0]']             \n",
      "                                                                                                  \n",
      " dropout_74 (Dropout)           (None, 128)          0           ['dense[0][0]']                  \n",
      "                                                                                                  \n",
      " dense_1 (Dense)                (None, 32)           4128        ['dropout_74[0][0]']             \n",
      "                                                                                                  \n",
      " dense_2 (Dense)                (None, 1)            33          ['dense_1[0][0]']                \n",
      "                                                                                                  \n",
      "==================================================================================================\n",
      "Total params: 335,277,249\n",
      "Trainable params: 335,277,249\n",
      "Non-trainable params: 0\n",
      "__________________________________________________________________________________________________\n"
     ]
    }
   ],
   "source": [
    "model.summary()"
   ]
  },
  {
   "cell_type": "code",
   "execution_count": 14,
   "id": "a27fa685",
   "metadata": {
    "execution": {
     "iopub.execute_input": "2023-08-22T17:03:31.924899Z",
     "iopub.status.busy": "2023-08-22T17:03:31.923425Z",
     "iopub.status.idle": "2023-08-22T17:03:31.954944Z",
     "shell.execute_reply": "2023-08-22T17:03:31.954054Z"
    },
    "papermill": {
     "duration": 0.047203,
     "end_time": "2023-08-22T17:03:31.956971",
     "exception": false,
     "start_time": "2023-08-22T17:03:31.909768",
     "status": "completed"
    },
    "tags": []
   },
   "outputs": [],
   "source": [
    "optimizer = Adam(\n",
    "    learning_rate=7e-06, # base value: https://huggingface.co/bert-large-uncased\n",
    "    epsilon=2e-08,\n",
    "    decay=0.01,\n",
    "    clipnorm=1.0)\n",
    "\n",
    "# Set loss and metrics\n",
    "loss = BinaryCrossentropy()\n",
    "metric = BinaryAccuracy('accuracy'),\n",
    "# Compile the model\n",
    "model.compile(\n",
    "    optimizer = optimizer,\n",
    "    loss = loss, \n",
    "    metrics = metric)"
   ]
  },
  {
   "cell_type": "code",
   "execution_count": 15,
   "id": "0d7e43bc",
   "metadata": {
    "execution": {
     "iopub.execute_input": "2023-08-22T17:03:31.984954Z",
     "iopub.status.busy": "2023-08-22T17:03:31.984657Z",
     "iopub.status.idle": "2023-08-22T17:03:32.509157Z",
     "shell.execute_reply": "2023-08-22T17:03:32.508227Z"
    },
    "papermill": {
     "duration": 0.541107,
     "end_time": "2023-08-22T17:03:32.512221",
     "exception": false,
     "start_time": "2023-08-22T17:03:31.971114",
     "status": "completed"
    },
    "tags": []
   },
   "outputs": [
    {
     "data": {
      "image/png": "[encoded data removed]",
      "text/plain": [
       "<IPython.core.display.Image object>"
      ]
     },
     "execution_count": 15,
     "metadata": {},
     "output_type": "execute_result"
    }
   ],
   "source": [
    "plot_model(model, show_shapes = True)"
   ]
  },
  {
   "cell_type": "code",
   "execution_count": 16,
   "id": "c9c56285",
   "metadata": {
    "execution": {
     "iopub.execute_input": "2023-08-22T17:03:32.542310Z",
     "iopub.status.busy": "2023-08-22T17:03:32.541947Z",
     "iopub.status.idle": "2023-08-22T17:03:32.548058Z",
     "shell.execute_reply": "2023-08-22T17:03:32.547147Z"
    },
    "papermill": {
     "duration": 0.024151,
     "end_time": "2023-08-22T17:03:32.550122",
     "exception": false,
     "start_time": "2023-08-22T17:03:32.525971",
     "status": "completed"
    },
    "tags": []
   },
   "outputs": [
    {
     "data": {
      "text/plain": [
       "[PhysicalDevice(name='/physical_device:GPU:0', device_type='GPU'),\n",
       " PhysicalDevice(name='/physical_device:GPU:1', device_type='GPU')]"
      ]
     },
     "execution_count": 16,
     "metadata": {},
     "output_type": "execute_result"
    }
   ],
   "source": [
    "tf.config.experimental.list_physical_devices('GPU')"
   ]
  },
  {
   "cell_type": "markdown",
   "id": "2b399298",
   "metadata": {
    "papermill": {
     "duration": 0.013224,
     "end_time": "2023-08-22T17:03:32.576910",
     "exception": false,
     "start_time": "2023-08-22T17:03:32.563686",
     "status": "completed"
    },
    "tags": []
   },
   "source": [
    "Training the model"
   ]
  },
  {
   "cell_type": "code",
   "execution_count": 17,
   "id": "984a2ac4",
   "metadata": {
    "execution": {
     "iopub.execute_input": "2023-08-22T17:03:32.606117Z",
     "iopub.status.busy": "2023-08-22T17:03:32.605336Z",
     "iopub.status.idle": "2023-08-22T17:25:13.681056Z",
     "shell.execute_reply": "2023-08-22T17:25:13.679678Z"
    },
    "papermill": {
     "duration": 1301.276761,
     "end_time": "2023-08-22T17:25:13.867834",
     "exception": false,
     "start_time": "2023-08-22T17:03:32.591073",
     "status": "completed"
    },
    "tags": []
   },
   "outputs": [
    {
     "name": "stdout",
     "output_type": "stream",
     "text": [
      "Epoch 1/10\n",
      "215/215 [==============================] - 176s 605ms/step - loss: 0.5630 - accuracy: 0.7279 - val_loss: 0.4408 - val_accuracy: 0.8084\n",
      "Epoch 2/10\n",
      "215/215 [==============================] - 124s 579ms/step - loss: 0.4464 - accuracy: 0.8146 - val_loss: 0.4143 - val_accuracy: 0.8215\n",
      "Epoch 3/10\n",
      "215/215 [==============================] - 124s 579ms/step - loss: 0.4118 - accuracy: 0.8349 - val_loss: 0.4092 - val_accuracy: 0.8255\n",
      "Epoch 4/10\n",
      "215/215 [==============================] - 126s 585ms/step - loss: 0.4004 - accuracy: 0.8419 - val_loss: 0.4090 - val_accuracy: 0.8268\n",
      "Epoch 5/10\n",
      "215/215 [==============================] - 125s 583ms/step - loss: 0.3897 - accuracy: 0.8466 - val_loss: 0.4045 - val_accuracy: 0.8307\n",
      "Epoch 6/10\n",
      "215/215 [==============================] - 126s 584ms/step - loss: 0.3819 - accuracy: 0.8558 - val_loss: 0.4221 - val_accuracy: 0.8281\n",
      "Epoch 7/10\n",
      "215/215 [==============================] - 125s 582ms/step - loss: 0.3781 - accuracy: 0.8523 - val_loss: 0.4193 - val_accuracy: 0.8281\n",
      "Epoch 8/10\n",
      "215/215 [==============================] - 124s 578ms/step - loss: 0.3640 - accuracy: 0.8567 - val_loss: 0.4248 - val_accuracy: 0.8241\n",
      "Epoch 9/10\n",
      "215/215 [==============================] - 125s 581ms/step - loss: 0.3545 - accuracy: 0.8612 - val_loss: 0.4387 - val_accuracy: 0.8241\n",
      "Epoch 10/10\n",
      "215/215 [==============================] - 125s 581ms/step - loss: 0.3599 - accuracy: 0.8644 - val_loss: 0.4299 - val_accuracy: 0.8268\n"
     ]
    }
   ],
   "source": [
    "train_history = model.fit(\n",
    "    x ={'input_ids':x_train['input_ids'],'attention_mask':x_train['attention_mask']} ,\n",
    "    y = y_train,\n",
    "    validation_split = 0.1,\n",
    "    epochs=10,\n",
    "    batch_size=32\n",
    ")"
   ]
  },
  {
   "cell_type": "markdown",
   "id": "0ae084ca",
   "metadata": {
    "papermill": {
     "duration": 0.183689,
     "end_time": "2023-08-22T17:25:14.234596",
     "exception": false,
     "start_time": "2023-08-22T17:25:14.050907",
     "status": "completed"
    },
    "tags": []
   },
   "source": [
    "Testing:"
   ]
  },
  {
   "cell_type": "code",
   "execution_count": 18,
   "id": "db5428c6",
   "metadata": {
    "execution": {
     "iopub.execute_input": "2023-08-22T17:25:14.650299Z",
     "iopub.status.busy": "2023-08-22T17:25:14.649207Z",
     "iopub.status.idle": "2023-08-22T17:25:14.671967Z",
     "shell.execute_reply": "2023-08-22T17:25:14.671033Z"
    },
    "papermill": {
     "duration": 0.254532,
     "end_time": "2023-08-22T17:25:14.674189",
     "exception": false,
     "start_time": "2023-08-22T17:25:14.419657",
     "status": "completed"
    },
    "tags": []
   },
   "outputs": [
    {
     "data": {
      "text/html": [
       "<div>\n",
       "<style scoped>\n",
       "    .dataframe tbody tr th:only-of-type {\n",
       "        vertical-align: middle;\n",
       "    }\n",
       "\n",
       "    .dataframe tbody tr th {\n",
       "        vertical-align: top;\n",
       "    }\n",
       "\n",
       "    .dataframe thead th {\n",
       "        text-align: right;\n",
       "    }\n",
       "</style>\n",
       "<table border=\"1\" class=\"dataframe\">\n",
       "  <thead>\n",
       "    <tr style=\"text-align: right;\">\n",
       "      <th></th>\n",
       "      <th>id</th>\n",
       "      <th>text</th>\n",
       "    </tr>\n",
       "  </thead>\n",
       "  <tbody>\n",
       "    <tr>\n",
       "      <th>0</th>\n",
       "      <td>0</td>\n",
       "      <td>happened terrible car crash</td>\n",
       "    </tr>\n",
       "    <tr>\n",
       "      <th>1</th>\n",
       "      <td>2</td>\n",
       "      <td>heard earthquake different cities stay safe ev...</td>\n",
       "    </tr>\n",
       "    <tr>\n",
       "      <th>2</th>\n",
       "      <td>3</td>\n",
       "      <td>forest fire spot pond geese fleeing across str...</td>\n",
       "    </tr>\n",
       "    <tr>\n",
       "      <th>3</th>\n",
       "      <td>9</td>\n",
       "      <td>apocalypse lighting spokane wildfires</td>\n",
       "    </tr>\n",
       "    <tr>\n",
       "      <th>4</th>\n",
       "      <td>11</td>\n",
       "      <td>typhoon soudelor kills china taiwan</td>\n",
       "    </tr>\n",
       "    <tr>\n",
       "      <th>...</th>\n",
       "      <td>...</td>\n",
       "      <td>...</td>\n",
       "    </tr>\n",
       "    <tr>\n",
       "      <th>3258</th>\n",
       "      <td>10861</td>\n",
       "      <td>earthquake safety los angeles ûò safety faste...</td>\n",
       "    </tr>\n",
       "    <tr>\n",
       "      <th>3259</th>\n",
       "      <td>10865</td>\n",
       "      <td>storm ri worse last hurricane hardest hit yard...</td>\n",
       "    </tr>\n",
       "    <tr>\n",
       "      <th>3260</th>\n",
       "      <td>10868</td>\n",
       "      <td>green line derailment chicago</td>\n",
       "    </tr>\n",
       "    <tr>\n",
       "      <th>3261</th>\n",
       "      <td>10874</td>\n",
       "      <td>meg issues hazardous weather outlook hwo</td>\n",
       "    </tr>\n",
       "    <tr>\n",
       "      <th>3262</th>\n",
       "      <td>10875</td>\n",
       "      <td>cityofcalgary activated municipal emergency pl...</td>\n",
       "    </tr>\n",
       "  </tbody>\n",
       "</table>\n",
       "<p>3263 rows × 2 columns</p>\n",
       "</div>"
      ],
      "text/plain": [
       "         id                                               text\n",
       "0         0                        happened terrible car crash\n",
       "1         2  heard earthquake different cities stay safe ev...\n",
       "2         3  forest fire spot pond geese fleeing across str...\n",
       "3         9              apocalypse lighting spokane wildfires\n",
       "4        11                typhoon soudelor kills china taiwan\n",
       "...     ...                                                ...\n",
       "3258  10861  earthquake safety los angeles ûò safety faste...\n",
       "3259  10865  storm ri worse last hurricane hardest hit yard...\n",
       "3260  10868                      green line derailment chicago\n",
       "3261  10874           meg issues hazardous weather outlook hwo\n",
       "3262  10875  cityofcalgary activated municipal emergency pl...\n",
       "\n",
       "[3263 rows x 2 columns]"
      ]
     },
     "execution_count": 18,
     "metadata": {},
     "output_type": "execute_result"
    }
   ],
   "source": [
    "test_df"
   ]
  },
  {
   "cell_type": "code",
   "execution_count": 19,
   "id": "626dadbb",
   "metadata": {
    "execution": {
     "iopub.execute_input": "2023-08-22T17:25:15.045162Z",
     "iopub.status.busy": "2023-08-22T17:25:15.043761Z",
     "iopub.status.idle": "2023-08-22T17:25:15.239324Z",
     "shell.execute_reply": "2023-08-22T17:25:15.238308Z"
    },
    "papermill": {
     "duration": 0.381886,
     "end_time": "2023-08-22T17:25:15.241724",
     "exception": false,
     "start_time": "2023-08-22T17:25:14.859838",
     "status": "completed"
    },
    "tags": []
   },
   "outputs": [],
   "source": [
    "# test input tokenizer:\n",
    "\n",
    "x_test = tokenizer(\n",
    "    text=test_df.text.tolist(),\n",
    "    add_special_tokens=True,\n",
    "    max_length=23,\n",
    "    truncation=True, # if length is bigger then truncating the text\n",
    "    padding=True, # every text length be the same by padding\n",
    "    return_tensors='tf',\n",
    "    return_token_type_ids = False,\n",
    "    return_attention_mask = True,\n",
    "    verbose = True)"
   ]
  },
  {
   "cell_type": "code",
   "execution_count": 20,
   "id": "3e9cefe7",
   "metadata": {
    "execution": {
     "iopub.execute_input": "2023-08-22T17:25:15.626666Z",
     "iopub.status.busy": "2023-08-22T17:25:15.625612Z",
     "iopub.status.idle": "2023-08-22T17:25:40.307911Z",
     "shell.execute_reply": "2023-08-22T17:25:40.306875Z"
    },
    "papermill": {
     "duration": 24.870782,
     "end_time": "2023-08-22T17:25:40.310576",
     "exception": false,
     "start_time": "2023-08-22T17:25:15.439794",
     "status": "completed"
    },
    "tags": []
   },
   "outputs": [
    {
     "name": "stdout",
     "output_type": "stream",
     "text": [
      "102/102 [==============================] - 25s 182ms/step\n"
     ]
    }
   ],
   "source": [
    "predicted = model.predict({'input_ids':x_test['input_ids'],'attention_mask':x_test['attention_mask']})"
   ]
  },
  {
   "cell_type": "code",
   "execution_count": 21,
   "id": "ce3a92ab",
   "metadata": {
    "execution": {
     "iopub.execute_input": "2023-08-22T17:25:40.714252Z",
     "iopub.status.busy": "2023-08-22T17:25:40.713847Z",
     "iopub.status.idle": "2023-08-22T17:25:40.719104Z",
     "shell.execute_reply": "2023-08-22T17:25:40.718035Z"
    },
    "papermill": {
     "duration": 0.208634,
     "end_time": "2023-08-22T17:25:40.721353",
     "exception": false,
     "start_time": "2023-08-22T17:25:40.512719",
     "status": "completed"
    },
    "tags": []
   },
   "outputs": [],
   "source": [
    "y_predicted = np.where(predicted>0.5,1,0)"
   ]
  },
  {
   "cell_type": "code",
   "execution_count": 22,
   "id": "0c5264c0",
   "metadata": {
    "execution": {
     "iopub.execute_input": "2023-08-22T17:25:41.120000Z",
     "iopub.status.busy": "2023-08-22T17:25:41.119628Z",
     "iopub.status.idle": "2023-08-22T17:25:41.124429Z",
     "shell.execute_reply": "2023-08-22T17:25:41.123322Z"
    },
    "papermill": {
     "duration": 0.20763,
     "end_time": "2023-08-22T17:25:41.126401",
     "exception": false,
     "start_time": "2023-08-22T17:25:40.918771",
     "status": "completed"
    },
    "tags": []
   },
   "outputs": [],
   "source": [
    "y_predicted = y_predicted.reshape((1,3263))[0]"
   ]
  },
  {
   "cell_type": "code",
   "execution_count": 23,
   "id": "cc06b8a2",
   "metadata": {
    "execution": {
     "iopub.execute_input": "2023-08-22T17:25:41.513311Z",
     "iopub.status.busy": "2023-08-22T17:25:41.512889Z",
     "iopub.status.idle": "2023-08-22T17:25:41.519322Z",
     "shell.execute_reply": "2023-08-22T17:25:41.518407Z"
    },
    "papermill": {
     "duration": 0.202104,
     "end_time": "2023-08-22T17:25:41.521499",
     "exception": false,
     "start_time": "2023-08-22T17:25:41.319395",
     "status": "completed"
    },
    "tags": []
   },
   "outputs": [],
   "source": [
    "sample_sub_df['id'] = test_df.id\n",
    "sample_sub_df['target'] = y_predicted"
   ]
  },
  {
   "cell_type": "code",
   "execution_count": 24,
   "id": "1e58e682",
   "metadata": {
    "execution": {
     "iopub.execute_input": "2023-08-22T17:25:41.911427Z",
     "iopub.status.busy": "2023-08-22T17:25:41.910407Z",
     "iopub.status.idle": "2023-08-22T17:25:41.927466Z",
     "shell.execute_reply": "2023-08-22T17:25:41.926412Z"
    },
    "papermill": {
     "duration": 0.220362,
     "end_time": "2023-08-22T17:25:41.929779",
     "exception": false,
     "start_time": "2023-08-22T17:25:41.709417",
     "status": "completed"
    },
    "tags": []
   },
   "outputs": [],
   "source": [
    "sample_sub_df.to_csv('submission.csv',index = False)"
   ]
  }
 ],
 "metadata": {
  "kernelspec": {
   "display_name": "Python 3",
   "language": "python",
   "name": "python3"
  },
  "language_info": {
   "codemirror_mode": {
    "name": "ipython",
    "version": 3
   },
   "file_extension": ".py",
   "mimetype": "text/x-python",
   "name": "python",
   "nbconvert_exporter": "python",
   "pygments_lexer": "ipython3",
   "version": "3.10.12"
  },
  "papermill": {
   "default_parameters": {},
   "duration": 1414.442718,
   "end_time": "2023-08-22T17:25:45.245471",
   "environment_variables": {},
   "exception": null,
   "input_path": "__notebook__.ipynb",
   "output_path": "__notebook__.ipynb",
   "parameters": {},
   "start_time": "2023-08-22T17:02:10.802753",
   "version": "2.4.0"
  },
  "widgets": {
   "application/vnd.jupyter.widget-state+json": {
    "state": {
     "06d73741eacb44b68f399b9934004bac": {
      "model_module": "@jupyter-widgets/controls",
      "model_module_version": "1.5.0",
      "model_name": "HBoxModel",
      "state": {
       "_dom_classes": [],
       "_model_module": "@jupyter-widgets/controls",
       "_model_module_version": "1.5.0",
       "_model_name": "HBoxModel",
       "_view_count": null,
       "_view_module": "@jupyter-widgets/controls",
       "_view_module_version": "1.5.0",
       "_view_name": "HBoxView",
       "box_style": "",
       "children": [
        "IPY_MODEL_bfed4180f04a4b14bc5c3803c2c59156",
        "IPY_MODEL_9e843a9933924f97b0a9461b035801f7",
        "IPY_MODEL_55d2ea4e11bd48a29270f089cdee1fd0"
       ],
       "layout": "IPY_MODEL_6f5362806c6c42648f634d00ca67c1bb"
      }
     },
     "07d2b9b1a2854247888afca34951c9a8": {
      "model_module": "@jupyter-widgets/controls",
      "model_module_version": "1.5.0",
      "model_name": "HTMLModel",
      "state": {
       "_dom_classes": [],
       "_model_module": "@jupyter-widgets/controls",
       "_model_module_version": "1.5.0",
       "_model_name": "HTMLModel",
       "_view_count": null,
       "_view_module": "@jupyter-widgets/controls",
       "_view_module_version": "1.5.0",
       "_view_name": "HTMLView",
       "description": "",
       "description_tooltip": null,
       "layout": "IPY_MODEL_8796e05db11a4850bdfe47d87b9090c9",
       "placeholder": "​",
       "style": "IPY_MODEL_ab3d555d897f4132b53e5b7c12f7ee2f",
       "value": " 466k/466k [00:00&lt;00:00, 3.49MB/s]"
      }
     },
     "08e00f5d14ea470a8492b88e898cd915": {
      "model_module": "@jupyter-widgets/controls",
      "model_module_version": "1.5.0",
      "model_name": "ProgressStyleModel",
      "state": {
       "_model_module": "@jupyter-widgets/controls",
       "_model_module_version": "1.5.0",
       "_model_name": "ProgressStyleModel",
       "_view_count": null,
       "_view_module": "@jupyter-widgets/base",
       "_view_module_version": "1.2.0",
       "_view_name": "StyleView",
       "bar_color": null,
       "description_width": ""
      }
     },
     "0dae521b35af4d849891bb0c4f3eb95e": {
      "model_module": "@jupyter-widgets/base",
      "model_module_version": "1.2.0",
      "model_name": "LayoutModel",
      "state": {
       "_model_module": "@jupyter-widgets/base",
       "_model_module_version": "1.2.0",
       "_model_name": "LayoutModel",
       "_view_count": null,
       "_view_module": "@jupyter-widgets/base",
       "_view_module_version": "1.2.0",
       "_view_name": "LayoutView",
       "align_content": null,
       "align_items": null,
       "align_self": null,
       "border": null,
       "bottom": null,
       "display": null,
       "flex": null,
       "flex_flow": null,
       "grid_area": null,
       "grid_auto_columns": null,
       "grid_auto_flow": null,
       "grid_auto_rows": null,
       "grid_column": null,
       "grid_gap": null,
       "grid_row": null,
       "grid_template_areas": null,
       "grid_template_columns": null,
       "grid_template_rows": null,
       "height": null,
       "justify_content": null,
       "justify_items": null,
       "left": null,
       "margin": null,
       "max_height": null,
       "max_width": null,
       "min_height": null,
       "min_width": null,
       "object_fit": null,
       "object_position": null,
       "order": null,
       "overflow": null,
       "overflow_x": null,
       "overflow_y": null,
       "padding": null,
       "right": null,
       "top": null,
       "visibility": null,
       "width": null
      }
     },
     "13fa04e006134ef8991d2de1ce093270": {
      "model_module": "@jupyter-widgets/controls",
      "model_module_version": "1.5.0",
      "model_name": "ProgressStyleModel",
      "state": {
       "_model_module": "@jupyter-widgets/controls",
       "_model_module_version": "1.5.0",
       "_model_name": "ProgressStyleModel",
       "_view_count": null,
       "_view_module": "@jupyter-widgets/base",
       "_view_module_version": "1.2.0",
       "_view_name": "StyleView",
       "bar_color": null,
       "description_width": ""
      }
     },
     "2027857e0da847a6b96f6c252916fa5f": {
      "model_module": "@jupyter-widgets/controls",
      "model_module_version": "1.5.0",
      "model_name": "DescriptionStyleModel",
      "state": {
       "_model_module": "@jupyter-widgets/controls",
       "_model_module_version": "1.5.0",
       "_model_name": "DescriptionStyleModel",
       "_view_count": null,
       "_view_module": "@jupyter-widgets/base",
       "_view_module_version": "1.2.0",
       "_view_name": "StyleView",
       "description_width": ""
      }
     },
     "22e07d27d4b14d77b8a71ec7e82b0fc2": {
      "model_module": "@jupyter-widgets/base",
      "model_module_version": "1.2.0",
      "model_name": "LayoutModel",
      "state": {
       "_model_module": "@jupyter-widgets/base",
       "_model_module_version": "1.2.0",
       "_model_name": "LayoutModel",
       "_view_count": null,
       "_view_module": "@jupyter-widgets/base",
       "_view_module_version": "1.2.0",
       "_view_name": "LayoutView",
       "align_content": null,
       "align_items": null,
       "align_self": null,
       "border": null,
       "bottom": null,
       "display": null,
       "flex": null,
       "flex_flow": null,
       "grid_area": null,
       "grid_auto_columns": null,
       "grid_auto_flow": null,
       "grid_auto_rows": null,
       "grid_column": null,
       "grid_gap": null,
       "grid_row": null,
       "grid_template_areas": null,
       "grid_template_columns": null,
       "grid_template_rows": null,
       "height": null,
       "justify_content": null,
       "justify_items": null,
       "left": null,
       "margin": null,
       "max_height": null,
       "max_width": null,
       "min_height": null,
       "min_width": null,
       "object_fit": null,
       "object_position": null,
       "order": null,
       "overflow": null,
       "overflow_x": null,
       "overflow_y": null,
       "padding": null,
       "right": null,
       "top": null,
       "visibility": null,
       "width": null
      }
     },
     "2737b1f86d5b4dd69f4a82887d969908": {
      "model_module": "@jupyter-widgets/controls",
      "model_module_version": "1.5.0",
      "model_name": "HTMLModel",
      "state": {
       "_dom_classes": [],
       "_model_module": "@jupyter-widgets/controls",
       "_model_module_version": "1.5.0",
       "_model_name": "HTMLModel",
       "_view_count": null,
       "_view_module": "@jupyter-widgets/controls",
       "_view_module_version": "1.5.0",
       "_view_name": "HTMLView",
       "description": "",
       "description_tooltip": null,
       "layout": "IPY_MODEL_ee4404cb2dd24af4931bf8446b786c3b",
       "placeholder": "​",
       "style": "IPY_MODEL_654a6d0f9ca74a9eaa5419555a93a8ba",
       "value": "Downloading (…)okenizer_config.json: 100%"
      }
     },
     "2de6214f84fc48e98356bcff8eb5ad9b": {
      "model_module": "@jupyter-widgets/base",
      "model_module_version": "1.2.0",
      "model_name": "LayoutModel",
      "state": {
       "_model_module": "@jupyter-widgets/base",
       "_model_module_version": "1.2.0",
       "_model_name": "LayoutModel",
       "_view_count": null,
       "_view_module": "@jupyter-widgets/base",
       "_view_module_version": "1.2.0",
       "_view_name": "LayoutView",
       "align_content": null,
       "align_items": null,
       "align_self": null,
       "border": null,
       "bottom": null,
       "display": null,
       "flex": null,
       "flex_flow": null,
       "grid_area": null,
       "grid_auto_columns": null,
       "grid_auto_flow": null,
       "grid_auto_rows": null,
       "grid_column": null,
       "grid_gap": null,
       "grid_row": null,
       "grid_template_areas": null,
       "grid_template_columns": null,
       "grid_template_rows": null,
       "height": null,
       "justify_content": null,
       "justify_items": null,
       "left": null,
       "margin": null,
       "max_height": null,
       "max_width": null,
       "min_height": null,
       "min_width": null,
       "object_fit": null,
       "object_position": null,
       "order": null,
       "overflow": null,
       "overflow_x": null,
       "overflow_y": null,
       "padding": null,
       "right": null,
       "top": null,
       "visibility": null,
       "width": null
      }
     },
     "32a39a3838a64e56be362718140193af": {
      "model_module": "@jupyter-widgets/controls",
      "model_module_version": "1.5.0",
      "model_name": "HBoxModel",
      "state": {
       "_dom_classes": [],
       "_model_module": "@jupyter-widgets/controls",
       "_model_module_version": "1.5.0",
       "_model_name": "HBoxModel",
       "_view_count": null,
       "_view_module": "@jupyter-widgets/controls",
       "_view_module_version": "1.5.0",
       "_view_name": "HBoxView",
       "box_style": "",
       "children": [
        "IPY_MODEL_bff358eeb0ac42e3be8f46fc3daab111",
        "IPY_MODEL_baa7bc427c56487f959ecd3f5e42b7c7",
        "IPY_MODEL_77737e3bbf20438ba57ed52cc4381b1f"
       ],
       "layout": "IPY_MODEL_c8aed40bacd745bda7db239565713704"
      }
     },
     "3510b739e19f494ea24899e13c48ae79": {
      "model_module": "@jupyter-widgets/base",
      "model_module_version": "1.2.0",
      "model_name": "LayoutModel",
      "state": {
       "_model_module": "@jupyter-widgets/base",
       "_model_module_version": "1.2.0",
       "_model_name": "LayoutModel",
       "_view_count": null,
       "_view_module": "@jupyter-widgets/base",
       "_view_module_version": "1.2.0",
       "_view_name": "LayoutView",
       "align_content": null,
       "align_items": null,
       "align_self": null,
       "border": null,
       "bottom": null,
       "display": null,
       "flex": null,
       "flex_flow": null,
       "grid_area": null,
       "grid_auto_columns": null,
       "grid_auto_flow": null,
       "grid_auto_rows": null,
       "grid_column": null,
       "grid_gap": null,
       "grid_row": null,
       "grid_template_areas": null,
       "grid_template_columns": null,
       "grid_template_rows": null,
       "height": null,
       "justify_content": null,
       "justify_items": null,
       "left": null,
       "margin": null,
       "max_height": null,
       "max_width": null,
       "min_height": null,
       "min_width": null,
       "object_fit": null,
       "object_position": null,
       "order": null,
       "overflow": null,
       "overflow_x": null,
       "overflow_y": null,
       "padding": null,
       "right": null,
       "top": null,
       "visibility": null,
       "width": null
      }
     },
     "3ebec1686fa649688989bf071b2773ab": {
      "model_module": "@jupyter-widgets/controls",
      "model_module_version": "1.5.0",
      "model_name": "FloatProgressModel",
      "state": {
       "_dom_classes": [],
       "_model_module": "@jupyter-widgets/controls",
       "_model_module_version": "1.5.0",
       "_model_name": "FloatProgressModel",
       "_view_count": null,
       "_view_module": "@jupyter-widgets/controls",
       "_view_module_version": "1.5.0",
       "_view_name": "ProgressView",
       "bar_style": "success",
       "description": "",
       "description_tooltip": null,
       "layout": "IPY_MODEL_2de6214f84fc48e98356bcff8eb5ad9b",
       "max": 28.0,
       "min": 0.0,
       "orientation": "horizontal",
       "style": "IPY_MODEL_08e00f5d14ea470a8492b88e898cd915",
       "value": 28.0
      }
     },
     "4550ee5cc92044d897414987a4a21f4d": {
      "model_module": "@jupyter-widgets/controls",
      "model_module_version": "1.5.0",
      "model_name": "ProgressStyleModel",
      "state": {
       "_model_module": "@jupyter-widgets/controls",
       "_model_module_version": "1.5.0",
       "_model_name": "ProgressStyleModel",
       "_view_count": null,
       "_view_module": "@jupyter-widgets/base",
       "_view_module_version": "1.2.0",
       "_view_name": "StyleView",
       "bar_color": null,
       "description_width": ""
      }
     },
     "48deb1ddfb9c44d58aa09c5d9c050c0b": {
      "model_module": "@jupyter-widgets/base",
      "model_module_version": "1.2.0",
      "model_name": "LayoutModel",
      "state": {
       "_model_module": "@jupyter-widgets/base",
       "_model_module_version": "1.2.0",
       "_model_name": "LayoutModel",
       "_view_count": null,
       "_view_module": "@jupyter-widgets/base",
       "_view_module_version": "1.2.0",
       "_view_name": "LayoutView",
       "align_content": null,
       "align_items": null,
       "align_self": null,
       "border": null,
       "bottom": null,
       "display": null,
       "flex": null,
       "flex_flow": null,
       "grid_area": null,
       "grid_auto_columns": null,
       "grid_auto_flow": null,
       "grid_auto_rows": null,
       "grid_column": null,
       "grid_gap": null,
       "grid_row": null,
       "grid_template_areas": null,
       "grid_template_columns": null,
       "grid_template_rows": null,
       "height": null,
       "justify_content": null,
       "justify_items": null,
       "left": null,
       "margin": null,
       "max_height": null,
       "max_width": null,
       "min_height": null,
       "min_width": null,
       "object_fit": null,
       "object_position": null,
       "order": null,
       "overflow": null,
       "overflow_x": null,
       "overflow_y": null,
       "padding": null,
       "right": null,
       "top": null,
       "visibility": null,
       "width": null
      }
     },
     "491fdc471204492e8cc8ca43b669a498": {
      "model_module": "@jupyter-widgets/base",
      "model_module_version": "1.2.0",
      "model_name": "LayoutModel",
      "state": {
       "_model_module": "@jupyter-widgets/base",
       "_model_module_version": "1.2.0",
       "_model_name": "LayoutModel",
       "_view_count": null,
       "_view_module": "@jupyter-widgets/base",
       "_view_module_version": "1.2.0",
       "_view_name": "LayoutView",
       "align_content": null,
       "align_items": null,
       "align_self": null,
       "border": null,
       "bottom": null,
       "display": null,
       "flex": null,
       "flex_flow": null,
       "grid_area": null,
       "grid_auto_columns": null,
       "grid_auto_flow": null,
       "grid_auto_rows": null,
       "grid_column": null,
       "grid_gap": null,
       "grid_row": null,
       "grid_template_areas": null,
       "grid_template_columns": null,
       "grid_template_rows": null,
       "height": null,
       "justify_content": null,
       "justify_items": null,
       "left": null,
       "margin": null,
       "max_height": null,
       "max_width": null,
       "min_height": null,
       "min_width": null,
       "object_fit": null,
       "object_position": null,
       "order": null,
       "overflow": null,
       "overflow_x": null,
       "overflow_y": null,
       "padding": null,
       "right": null,
       "top": null,
       "visibility": null,
       "width": null
      }
     },
     "53c52061c2ef4644b2f207c2b3b46005": {
      "model_module": "@jupyter-widgets/controls",
      "model_module_version": "1.5.0",
      "model_name": "HTMLModel",
      "state": {
       "_dom_classes": [],
       "_model_module": "@jupyter-widgets/controls",
       "_model_module_version": "1.5.0",
       "_model_name": "HTMLModel",
       "_view_count": null,
       "_view_module": "@jupyter-widgets/controls",
       "_view_module_version": "1.5.0",
       "_view_name": "HTMLView",
       "description": "",
       "description_tooltip": null,
       "layout": "IPY_MODEL_b99f75436cdd4fdca8246126852247d3",
       "placeholder": "​",
       "style": "IPY_MODEL_bfd072d6f0da43e3a868987fbfc32e35",
       "value": " 28.0/28.0 [00:00&lt;00:00, 1.93kB/s]"
      }
     },
     "55d2ea4e11bd48a29270f089cdee1fd0": {
      "model_module": "@jupyter-widgets/controls",
      "model_module_version": "1.5.0",
      "model_name": "HTMLModel",
      "state": {
       "_dom_classes": [],
       "_model_module": "@jupyter-widgets/controls",
       "_model_module_version": "1.5.0",
       "_model_name": "HTMLModel",
       "_view_count": null,
       "_view_module": "@jupyter-widgets/controls",
       "_view_module_version": "1.5.0",
       "_view_name": "HTMLView",
       "description": "",
       "description_tooltip": null,
       "layout": "IPY_MODEL_677ccd036ae2422fb3e77791cd066cf1",
       "placeholder": "​",
       "style": "IPY_MODEL_86f9cb419b5a41e1a7ec906022f74320",
       "value": " 571/571 [00:00&lt;00:00, 38.0kB/s]"
      }
     },
     "654a6d0f9ca74a9eaa5419555a93a8ba": {
      "model_module": "@jupyter-widgets/controls",
      "model_module_version": "1.5.0",
      "model_name": "DescriptionStyleModel",
      "state": {
       "_model_module": "@jupyter-widgets/controls",
       "_model_module_version": "1.5.0",
       "_model_name": "DescriptionStyleModel",
       "_view_count": null,
       "_view_module": "@jupyter-widgets/base",
       "_view_module_version": "1.2.0",
       "_view_name": "StyleView",
       "description_width": ""
      }
     },
     "677ccd036ae2422fb3e77791cd066cf1": {
      "model_module": "@jupyter-widgets/base",
      "model_module_version": "1.2.0",
      "model_name": "LayoutModel",
      "state": {
       "_model_module": "@jupyter-widgets/base",
       "_model_module_version": "1.2.0",
       "_model_name": "LayoutModel",
       "_view_count": null,
       "_view_module": "@jupyter-widgets/base",
       "_view_module_version": "1.2.0",
       "_view_name": "LayoutView",
       "align_content": null,
       "align_items": null,
       "align_self": null,
       "border": null,
       "bottom": null,
       "display": null,
       "flex": null,
       "flex_flow": null,
       "grid_area": null,
       "grid_auto_columns": null,
       "grid_auto_flow": null,
       "grid_auto_rows": null,
       "grid_column": null,
       "grid_gap": null,
       "grid_row": null,
       "grid_template_areas": null,
       "grid_template_columns": null,
       "grid_template_rows": null,
       "height": null,
       "justify_content": null,
       "justify_items": null,
       "left": null,
       "margin": null,
       "max_height": null,
       "max_width": null,
       "min_height": null,
       "min_width": null,
       "object_fit": null,
       "object_position": null,
       "order": null,
       "overflow": null,
       "overflow_x": null,
       "overflow_y": null,
       "padding": null,
       "right": null,
       "top": null,
       "visibility": null,
       "width": null
      }
     },
     "6ba11aef32ac4396a58023bde4a62f9d": {
      "model_module": "@jupyter-widgets/base",
      "model_module_version": "1.2.0",
      "model_name": "LayoutModel",
      "state": {
       "_model_module": "@jupyter-widgets/base",
       "_model_module_version": "1.2.0",
       "_model_name": "LayoutModel",
       "_view_count": null,
       "_view_module": "@jupyter-widgets/base",
       "_view_module_version": "1.2.0",
       "_view_name": "LayoutView",
       "align_content": null,
       "align_items": null,
       "align_self": null,
       "border": null,
       "bottom": null,
       "display": null,
       "flex": null,
       "flex_flow": null,
       "grid_area": null,
       "grid_auto_columns": null,
       "grid_auto_flow": null,
       "grid_auto_rows": null,
       "grid_column": null,
       "grid_gap": null,
       "grid_row": null,
       "grid_template_areas": null,
       "grid_template_columns": null,
       "grid_template_rows": null,
       "height": null,
       "justify_content": null,
       "justify_items": null,
       "left": null,
       "margin": null,
       "max_height": null,
       "max_width": null,
       "min_height": null,
       "min_width": null,
       "object_fit": null,
       "object_position": null,
       "order": null,
       "overflow": null,
       "overflow_x": null,
       "overflow_y": null,
       "padding": null,
       "right": null,
       "top": null,
       "visibility": null,
       "width": null
      }
     },
     "6f5362806c6c42648f634d00ca67c1bb": {
      "model_module": "@jupyter-widgets/base",
      "model_module_version": "1.2.0",
      "model_name": "LayoutModel",
      "state": {
       "_model_module": "@jupyter-widgets/base",
       "_model_module_version": "1.2.0",
       "_model_name": "LayoutModel",
       "_view_count": null,
       "_view_module": "@jupyter-widgets/base",
       "_view_module_version": "1.2.0",
       "_view_name": "LayoutView",
       "align_content": null,
       "align_items": null,
       "align_self": null,
       "border": null,
       "bottom": null,
       "display": null,
       "flex": null,
       "flex_flow": null,
       "grid_area": null,
       "grid_auto_columns": null,
       "grid_auto_flow": null,
       "grid_auto_rows": null,
       "grid_column": null,
       "grid_gap": null,
       "grid_row": null,
       "grid_template_areas": null,
       "grid_template_columns": null,
       "grid_template_rows": null,
       "height": null,
       "justify_content": null,
       "justify_items": null,
       "left": null,
       "margin": null,
       "max_height": null,
       "max_width": null,
       "min_height": null,
       "min_width": null,
       "object_fit": null,
       "object_position": null,
       "order": null,
       "overflow": null,
       "overflow_x": null,
       "overflow_y": null,
       "padding": null,
       "right": null,
       "top": null,
       "visibility": null,
       "width": null
      }
     },
     "736d02b3907e47779e8b376c7f48dd10": {
      "model_module": "@jupyter-widgets/base",
      "model_module_version": "1.2.0",
      "model_name": "LayoutModel",
      "state": {
       "_model_module": "@jupyter-widgets/base",
       "_model_module_version": "1.2.0",
       "_model_name": "LayoutModel",
       "_view_count": null,
       "_view_module": "@jupyter-widgets/base",
       "_view_module_version": "1.2.0",
       "_view_name": "LayoutView",
       "align_content": null,
       "align_items": null,
       "align_self": null,
       "border": null,
       "bottom": null,
       "display": null,
       "flex": null,
       "flex_flow": null,
       "grid_area": null,
       "grid_auto_columns": null,
       "grid_auto_flow": null,
       "grid_auto_rows": null,
       "grid_column": null,
       "grid_gap": null,
       "grid_row": null,
       "grid_template_areas": null,
       "grid_template_columns": null,
       "grid_template_rows": null,
       "height": null,
       "justify_content": null,
       "justify_items": null,
       "left": null,
       "margin": null,
       "max_height": null,
       "max_width": null,
       "min_height": null,
       "min_width": null,
       "object_fit": null,
       "object_position": null,
       "order": null,
       "overflow": null,
       "overflow_x": null,
       "overflow_y": null,
       "padding": null,
       "right": null,
       "top": null,
       "visibility": null,
       "width": null
      }
     },
     "77737e3bbf20438ba57ed52cc4381b1f": {
      "model_module": "@jupyter-widgets/controls",
      "model_module_version": "1.5.0",
      "model_name": "HTMLModel",
      "state": {
       "_dom_classes": [],
       "_model_module": "@jupyter-widgets/controls",
       "_model_module_version": "1.5.0",
       "_model_name": "HTMLModel",
       "_view_count": null,
       "_view_module": "@jupyter-widgets/controls",
       "_view_module_version": "1.5.0",
       "_view_name": "HTMLView",
       "description": "",
       "description_tooltip": null,
       "layout": "IPY_MODEL_3510b739e19f494ea24899e13c48ae79",
       "placeholder": "​",
       "style": "IPY_MODEL_854911e0f92b4531918ddf2e8504b8ab",
       "value": " 1.34G/1.34G [00:06&lt;00:00, 219MB/s]"
      }
     },
     "7786744f34864c798b4f56de475ba7f1": {
      "model_module": "@jupyter-widgets/controls",
      "model_module_version": "1.5.0",
      "model_name": "HBoxModel",
      "state": {
       "_dom_classes": [],
       "_model_module": "@jupyter-widgets/controls",
       "_model_module_version": "1.5.0",
       "_model_name": "HBoxModel",
       "_view_count": null,
       "_view_module": "@jupyter-widgets/controls",
       "_view_module_version": "1.5.0",
       "_view_name": "HBoxView",
       "box_style": "",
       "children": [
        "IPY_MODEL_c416969b01a34187ae78edae835f0f82",
        "IPY_MODEL_90a51b8712c5442db96e1ec92f3acf66",
        "IPY_MODEL_e788622c63424a47a79134300d4aedc7"
       ],
       "layout": "IPY_MODEL_8b0d7a9d59d842849dfc70f596c06c2d"
      }
     },
     "854911e0f92b4531918ddf2e8504b8ab": {
      "model_module": "@jupyter-widgets/controls",
      "model_module_version": "1.5.0",
      "model_name": "DescriptionStyleModel",
      "state": {
       "_model_module": "@jupyter-widgets/controls",
       "_model_module_version": "1.5.0",
       "_model_name": "DescriptionStyleModel",
       "_view_count": null,
       "_view_module": "@jupyter-widgets/base",
       "_view_module_version": "1.2.0",
       "_view_name": "StyleView",
       "description_width": ""
      }
     },
     "86f9cb419b5a41e1a7ec906022f74320": {
      "model_module": "@jupyter-widgets/controls",
      "model_module_version": "1.5.0",
      "model_name": "DescriptionStyleModel",
      "state": {
       "_model_module": "@jupyter-widgets/controls",
       "_model_module_version": "1.5.0",
       "_model_name": "DescriptionStyleModel",
       "_view_count": null,
       "_view_module": "@jupyter-widgets/base",
       "_view_module_version": "1.2.0",
       "_view_name": "StyleView",
       "description_width": ""
      }
     },
     "8796e05db11a4850bdfe47d87b9090c9": {
      "model_module": "@jupyter-widgets/base",
      "model_module_version": "1.2.0",
      "model_name": "LayoutModel",
      "state": {
       "_model_module": "@jupyter-widgets/base",
       "_model_module_version": "1.2.0",
       "_model_name": "LayoutModel",
       "_view_count": null,
       "_view_module": "@jupyter-widgets/base",
       "_view_module_version": "1.2.0",
       "_view_name": "LayoutView",
       "align_content": null,
       "align_items": null,
       "align_self": null,
       "border": null,
       "bottom": null,
       "display": null,
       "flex": null,
       "flex_flow": null,
       "grid_area": null,
       "grid_auto_columns": null,
       "grid_auto_flow": null,
       "grid_auto_rows": null,
       "grid_column": null,
       "grid_gap": null,
       "grid_row": null,
       "grid_template_areas": null,
       "grid_template_columns": null,
       "grid_template_rows": null,
       "height": null,
       "justify_content": null,
       "justify_items": null,
       "left": null,
       "margin": null,
       "max_height": null,
       "max_width": null,
       "min_height": null,
       "min_width": null,
       "object_fit": null,
       "object_position": null,
       "order": null,
       "overflow": null,
       "overflow_x": null,
       "overflow_y": null,
       "padding": null,
       "right": null,
       "top": null,
       "visibility": null,
       "width": null
      }
     },
     "87fcc5f9befc47dcb7500fb41ed68368": {
      "model_module": "@jupyter-widgets/controls",
      "model_module_version": "1.5.0",
      "model_name": "DescriptionStyleModel",
      "state": {
       "_model_module": "@jupyter-widgets/controls",
       "_model_module_version": "1.5.0",
       "_model_name": "DescriptionStyleModel",
       "_view_count": null,
       "_view_module": "@jupyter-widgets/base",
       "_view_module_version": "1.2.0",
       "_view_name": "StyleView",
       "description_width": ""
      }
     },
     "8aa8ed211a3846c78315b852ff2fe13d": {
      "model_module": "@jupyter-widgets/base",
      "model_module_version": "1.2.0",
      "model_name": "LayoutModel",
      "state": {
       "_model_module": "@jupyter-widgets/base",
       "_model_module_version": "1.2.0",
       "_model_name": "LayoutModel",
       "_view_count": null,
       "_view_module": "@jupyter-widgets/base",
       "_view_module_version": "1.2.0",
       "_view_name": "LayoutView",
       "align_content": null,
       "align_items": null,
       "align_self": null,
       "border": null,
       "bottom": null,
       "display": null,
       "flex": null,
       "flex_flow": null,
       "grid_area": null,
       "grid_auto_columns": null,
       "grid_auto_flow": null,
       "grid_auto_rows": null,
       "grid_column": null,
       "grid_gap": null,
       "grid_row": null,
       "grid_template_areas": null,
       "grid_template_columns": null,
       "grid_template_rows": null,
       "height": null,
       "justify_content": null,
       "justify_items": null,
       "left": null,
       "margin": null,
       "max_height": null,
       "max_width": null,
       "min_height": null,
       "min_width": null,
       "object_fit": null,
       "object_position": null,
       "order": null,
       "overflow": null,
       "overflow_x": null,
       "overflow_y": null,
       "padding": null,
       "right": null,
       "top": null,
       "visibility": null,
       "width": null
      }
     },
     "8b0d7a9d59d842849dfc70f596c06c2d": {
      "model_module": "@jupyter-widgets/base",
      "model_module_version": "1.2.0",
      "model_name": "LayoutModel",
      "state": {
       "_model_module": "@jupyter-widgets/base",
       "_model_module_version": "1.2.0",
       "_model_name": "LayoutModel",
       "_view_count": null,
       "_view_module": "@jupyter-widgets/base",
       "_view_module_version": "1.2.0",
       "_view_name": "LayoutView",
       "align_content": null,
       "align_items": null,
       "align_self": null,
       "border": null,
       "bottom": null,
       "display": null,
       "flex": null,
       "flex_flow": null,
       "grid_area": null,
       "grid_auto_columns": null,
       "grid_auto_flow": null,
       "grid_auto_rows": null,
       "grid_column": null,
       "grid_gap": null,
       "grid_row": null,
       "grid_template_areas": null,
       "grid_template_columns": null,
       "grid_template_rows": null,
       "height": null,
       "justify_content": null,
       "justify_items": null,
       "left": null,
       "margin": null,
       "max_height": null,
       "max_width": null,
       "min_height": null,
       "min_width": null,
       "object_fit": null,
       "object_position": null,
       "order": null,
       "overflow": null,
       "overflow_x": null,
       "overflow_y": null,
       "padding": null,
       "right": null,
       "top": null,
       "visibility": null,
       "width": null
      }
     },
     "90a51b8712c5442db96e1ec92f3acf66": {
      "model_module": "@jupyter-widgets/controls",
      "model_module_version": "1.5.0",
      "model_name": "FloatProgressModel",
      "state": {
       "_dom_classes": [],
       "_model_module": "@jupyter-widgets/controls",
       "_model_module_version": "1.5.0",
       "_model_name": "FloatProgressModel",
       "_view_count": null,
       "_view_module": "@jupyter-widgets/controls",
       "_view_module_version": "1.5.0",
       "_view_name": "ProgressView",
       "bar_style": "success",
       "description": "",
       "description_tooltip": null,
       "layout": "IPY_MODEL_f79b5773039d426fb2301bc57c9715dc",
       "max": 231508.0,
       "min": 0.0,
       "orientation": "horizontal",
       "style": "IPY_MODEL_4550ee5cc92044d897414987a4a21f4d",
       "value": 231508.0
      }
     },
     "90ca9f03bdf14e2a8a589a02230b9ac1": {
      "model_module": "@jupyter-widgets/controls",
      "model_module_version": "1.5.0",
      "model_name": "ProgressStyleModel",
      "state": {
       "_model_module": "@jupyter-widgets/controls",
       "_model_module_version": "1.5.0",
       "_model_name": "ProgressStyleModel",
       "_view_count": null,
       "_view_module": "@jupyter-widgets/base",
       "_view_module_version": "1.2.0",
       "_view_name": "StyleView",
       "bar_color": null,
       "description_width": ""
      }
     },
     "9e843a9933924f97b0a9461b035801f7": {
      "model_module": "@jupyter-widgets/controls",
      "model_module_version": "1.5.0",
      "model_name": "FloatProgressModel",
      "state": {
       "_dom_classes": [],
       "_model_module": "@jupyter-widgets/controls",
       "_model_module_version": "1.5.0",
       "_model_name": "FloatProgressModel",
       "_view_count": null,
       "_view_module": "@jupyter-widgets/controls",
       "_view_module_version": "1.5.0",
       "_view_name": "ProgressView",
       "bar_style": "success",
       "description": "",
       "description_tooltip": null,
       "layout": "IPY_MODEL_736d02b3907e47779e8b376c7f48dd10",
       "max": 571.0,
       "min": 0.0,
       "orientation": "horizontal",
       "style": "IPY_MODEL_f387a7d73f434c329072d6c9f9d16d33",
       "value": 571.0
      }
     },
     "9f205de869154210b58c7e565eeccc5f": {
      "model_module": "@jupyter-widgets/controls",
      "model_module_version": "1.5.0",
      "model_name": "DescriptionStyleModel",
      "state": {
       "_model_module": "@jupyter-widgets/controls",
       "_model_module_version": "1.5.0",
       "_model_name": "DescriptionStyleModel",
       "_view_count": null,
       "_view_module": "@jupyter-widgets/base",
       "_view_module_version": "1.2.0",
       "_view_name": "StyleView",
       "description_width": ""
      }
     },
     "a07e259a1d674ea09e47634ba1358139": {
      "model_module": "@jupyter-widgets/controls",
      "model_module_version": "1.5.0",
      "model_name": "FloatProgressModel",
      "state": {
       "_dom_classes": [],
       "_model_module": "@jupyter-widgets/controls",
       "_model_module_version": "1.5.0",
       "_model_name": "FloatProgressModel",
       "_view_count": null,
       "_view_module": "@jupyter-widgets/controls",
       "_view_module_version": "1.5.0",
       "_view_name": "ProgressView",
       "bar_style": "success",
       "description": "",
       "description_tooltip": null,
       "layout": "IPY_MODEL_0dae521b35af4d849891bb0c4f3eb95e",
       "max": 466062.0,
       "min": 0.0,
       "orientation": "horizontal",
       "style": "IPY_MODEL_90ca9f03bdf14e2a8a589a02230b9ac1",
       "value": 466062.0
      }
     },
     "a08426698c174c4a9ab298df15fde6d6": {
      "model_module": "@jupyter-widgets/controls",
      "model_module_version": "1.5.0",
      "model_name": "HTMLModel",
      "state": {
       "_dom_classes": [],
       "_model_module": "@jupyter-widgets/controls",
       "_model_module_version": "1.5.0",
       "_model_name": "HTMLModel",
       "_view_count": null,
       "_view_module": "@jupyter-widgets/controls",
       "_view_module_version": "1.5.0",
       "_view_name": "HTMLView",
       "description": "",
       "description_tooltip": null,
       "layout": "IPY_MODEL_cab3addd8a7d4d539cb7b32286a39b33",
       "placeholder": "​",
       "style": "IPY_MODEL_87fcc5f9befc47dcb7500fb41ed68368",
       "value": "Downloading (…)/main/tokenizer.json: 100%"
      }
     },
     "ab3d555d897f4132b53e5b7c12f7ee2f": {
      "model_module": "@jupyter-widgets/controls",
      "model_module_version": "1.5.0",
      "model_name": "DescriptionStyleModel",
      "state": {
       "_model_module": "@jupyter-widgets/controls",
       "_model_module_version": "1.5.0",
       "_model_name": "DescriptionStyleModel",
       "_view_count": null,
       "_view_module": "@jupyter-widgets/base",
       "_view_module_version": "1.2.0",
       "_view_name": "StyleView",
       "description_width": ""
      }
     },
     "ac45774ef96e4823aa5390e77231c96b": {
      "model_module": "@jupyter-widgets/controls",
      "model_module_version": "1.5.0",
      "model_name": "HBoxModel",
      "state": {
       "_dom_classes": [],
       "_model_module": "@jupyter-widgets/controls",
       "_model_module_version": "1.5.0",
       "_model_name": "HBoxModel",
       "_view_count": null,
       "_view_module": "@jupyter-widgets/controls",
       "_view_module_version": "1.5.0",
       "_view_name": "HBoxView",
       "box_style": "",
       "children": [
        "IPY_MODEL_a08426698c174c4a9ab298df15fde6d6",
        "IPY_MODEL_a07e259a1d674ea09e47634ba1358139",
        "IPY_MODEL_07d2b9b1a2854247888afca34951c9a8"
       ],
       "layout": "IPY_MODEL_8aa8ed211a3846c78315b852ff2fe13d"
      }
     },
     "b796111ca1b2451292c53a5730a46103": {
      "model_module": "@jupyter-widgets/controls",
      "model_module_version": "1.5.0",
      "model_name": "DescriptionStyleModel",
      "state": {
       "_model_module": "@jupyter-widgets/controls",
       "_model_module_version": "1.5.0",
       "_model_name": "DescriptionStyleModel",
       "_view_count": null,
       "_view_module": "@jupyter-widgets/base",
       "_view_module_version": "1.2.0",
       "_view_name": "StyleView",
       "description_width": ""
      }
     },
     "b99f75436cdd4fdca8246126852247d3": {
      "model_module": "@jupyter-widgets/base",
      "model_module_version": "1.2.0",
      "model_name": "LayoutModel",
      "state": {
       "_model_module": "@jupyter-widgets/base",
       "_model_module_version": "1.2.0",
       "_model_name": "LayoutModel",
       "_view_count": null,
       "_view_module": "@jupyter-widgets/base",
       "_view_module_version": "1.2.0",
       "_view_name": "LayoutView",
       "align_content": null,
       "align_items": null,
       "align_self": null,
       "border": null,
       "bottom": null,
       "display": null,
       "flex": null,
       "flex_flow": null,
       "grid_area": null,
       "grid_auto_columns": null,
       "grid_auto_flow": null,
       "grid_auto_rows": null,
       "grid_column": null,
       "grid_gap": null,
       "grid_row": null,
       "grid_template_areas": null,
       "grid_template_columns": null,
       "grid_template_rows": null,
       "height": null,
       "justify_content": null,
       "justify_items": null,
       "left": null,
       "margin": null,
       "max_height": null,
       "max_width": null,
       "min_height": null,
       "min_width": null,
       "object_fit": null,
       "object_position": null,
       "order": null,
       "overflow": null,
       "overflow_x": null,
       "overflow_y": null,
       "padding": null,
       "right": null,
       "top": null,
       "visibility": null,
       "width": null
      }
     },
     "baa7bc427c56487f959ecd3f5e42b7c7": {
      "model_module": "@jupyter-widgets/controls",
      "model_module_version": "1.5.0",
      "model_name": "FloatProgressModel",
      "state": {
       "_dom_classes": [],
       "_model_module": "@jupyter-widgets/controls",
       "_model_module_version": "1.5.0",
       "_model_name": "FloatProgressModel",
       "_view_count": null,
       "_view_module": "@jupyter-widgets/controls",
       "_view_module_version": "1.5.0",
       "_view_name": "ProgressView",
       "bar_style": "success",
       "description": "",
       "description_tooltip": null,
       "layout": "IPY_MODEL_6ba11aef32ac4396a58023bde4a62f9d",
       "max": 1344951957.0,
       "min": 0.0,
       "orientation": "horizontal",
       "style": "IPY_MODEL_13fa04e006134ef8991d2de1ce093270",
       "value": 1344951957.0
      }
     },
     "bfd072d6f0da43e3a868987fbfc32e35": {
      "model_module": "@jupyter-widgets/controls",
      "model_module_version": "1.5.0",
      "model_name": "DescriptionStyleModel",
      "state": {
       "_model_module": "@jupyter-widgets/controls",
       "_model_module_version": "1.5.0",
       "_model_name": "DescriptionStyleModel",
       "_view_count": null,
       "_view_module": "@jupyter-widgets/base",
       "_view_module_version": "1.2.0",
       "_view_name": "StyleView",
       "description_width": ""
      }
     },
     "bfed4180f04a4b14bc5c3803c2c59156": {
      "model_module": "@jupyter-widgets/controls",
      "model_module_version": "1.5.0",
      "model_name": "HTMLModel",
      "state": {
       "_dom_classes": [],
       "_model_module": "@jupyter-widgets/controls",
       "_model_module_version": "1.5.0",
       "_model_name": "HTMLModel",
       "_view_count": null,
       "_view_module": "@jupyter-widgets/controls",
       "_view_module_version": "1.5.0",
       "_view_name": "HTMLView",
       "description": "",
       "description_tooltip": null,
       "layout": "IPY_MODEL_d456f23985884c2f856af889634bf82c",
       "placeholder": "​",
       "style": "IPY_MODEL_c0a92908290441249ea3cb890a8af0c7",
       "value": "Downloading (…)lve/main/config.json: 100%"
      }
     },
     "bff358eeb0ac42e3be8f46fc3daab111": {
      "model_module": "@jupyter-widgets/controls",
      "model_module_version": "1.5.0",
      "model_name": "HTMLModel",
      "state": {
       "_dom_classes": [],
       "_model_module": "@jupyter-widgets/controls",
       "_model_module_version": "1.5.0",
       "_model_name": "HTMLModel",
       "_view_count": null,
       "_view_module": "@jupyter-widgets/controls",
       "_view_module_version": "1.5.0",
       "_view_name": "HTMLView",
       "description": "",
       "description_tooltip": null,
       "layout": "IPY_MODEL_22e07d27d4b14d77b8a71ec7e82b0fc2",
       "placeholder": "​",
       "style": "IPY_MODEL_2027857e0da847a6b96f6c252916fa5f",
       "value": "Downloading model.safetensors: 100%"
      }
     },
     "c0a92908290441249ea3cb890a8af0c7": {
      "model_module": "@jupyter-widgets/controls",
      "model_module_version": "1.5.0",
      "model_name": "DescriptionStyleModel",
      "state": {
       "_model_module": "@jupyter-widgets/controls",
       "_model_module_version": "1.5.0",
       "_model_name": "DescriptionStyleModel",
       "_view_count": null,
       "_view_module": "@jupyter-widgets/base",
       "_view_module_version": "1.2.0",
       "_view_name": "StyleView",
       "description_width": ""
      }
     },
     "c416969b01a34187ae78edae835f0f82": {
      "model_module": "@jupyter-widgets/controls",
      "model_module_version": "1.5.0",
      "model_name": "HTMLModel",
      "state": {
       "_dom_classes": [],
       "_model_module": "@jupyter-widgets/controls",
       "_model_module_version": "1.5.0",
       "_model_name": "HTMLModel",
       "_view_count": null,
       "_view_module": "@jupyter-widgets/controls",
       "_view_module_version": "1.5.0",
       "_view_name": "HTMLView",
       "description": "",
       "description_tooltip": null,
       "layout": "IPY_MODEL_d6dc192cded4475c99e0fd89f12107f8",
       "placeholder": "​",
       "style": "IPY_MODEL_b796111ca1b2451292c53a5730a46103",
       "value": "Downloading (…)solve/main/vocab.txt: 100%"
      }
     },
     "c8aed40bacd745bda7db239565713704": {
      "model_module": "@jupyter-widgets/base",
      "model_module_version": "1.2.0",
      "model_name": "LayoutModel",
      "state": {
       "_model_module": "@jupyter-widgets/base",
       "_model_module_version": "1.2.0",
       "_model_name": "LayoutModel",
       "_view_count": null,
       "_view_module": "@jupyter-widgets/base",
       "_view_module_version": "1.2.0",
       "_view_name": "LayoutView",
       "align_content": null,
       "align_items": null,
       "align_self": null,
       "border": null,
       "bottom": null,
       "display": null,
       "flex": null,
       "flex_flow": null,
       "grid_area": null,
       "grid_auto_columns": null,
       "grid_auto_flow": null,
       "grid_auto_rows": null,
       "grid_column": null,
       "grid_gap": null,
       "grid_row": null,
       "grid_template_areas": null,
       "grid_template_columns": null,
       "grid_template_rows": null,
       "height": null,
       "justify_content": null,
       "justify_items": null,
       "left": null,
       "margin": null,
       "max_height": null,
       "max_width": null,
       "min_height": null,
       "min_width": null,
       "object_fit": null,
       "object_position": null,
       "order": null,
       "overflow": null,
       "overflow_x": null,
       "overflow_y": null,
       "padding": null,
       "right": null,
       "top": null,
       "visibility": null,
       "width": null
      }
     },
     "cab3addd8a7d4d539cb7b32286a39b33": {
      "model_module": "@jupyter-widgets/base",
      "model_module_version": "1.2.0",
      "model_name": "LayoutModel",
      "state": {
       "_model_module": "@jupyter-widgets/base",
       "_model_module_version": "1.2.0",
       "_model_name": "LayoutModel",
       "_view_count": null,
       "_view_module": "@jupyter-widgets/base",
       "_view_module_version": "1.2.0",
       "_view_name": "LayoutView",
       "align_content": null,
       "align_items": null,
       "align_self": null,
       "border": null,
       "bottom": null,
       "display": null,
       "flex": null,
       "flex_flow": null,
       "grid_area": null,
       "grid_auto_columns": null,
       "grid_auto_flow": null,
       "grid_auto_rows": null,
       "grid_column": null,
       "grid_gap": null,
       "grid_row": null,
       "grid_template_areas": null,
       "grid_template_columns": null,
       "grid_template_rows": null,
       "height": null,
       "justify_content": null,
       "justify_items": null,
       "left": null,
       "margin": null,
       "max_height": null,
       "max_width": null,
       "min_height": null,
       "min_width": null,
       "object_fit": null,
       "object_position": null,
       "order": null,
       "overflow": null,
       "overflow_x": null,
       "overflow_y": null,
       "padding": null,
       "right": null,
       "top": null,
       "visibility": null,
       "width": null
      }
     },
     "d456f23985884c2f856af889634bf82c": {
      "model_module": "@jupyter-widgets/base",
      "model_module_version": "1.2.0",
      "model_name": "LayoutModel",
      "state": {
       "_model_module": "@jupyter-widgets/base",
       "_model_module_version": "1.2.0",
       "_model_name": "LayoutModel",
       "_view_count": null,
       "_view_module": "@jupyter-widgets/base",
       "_view_module_version": "1.2.0",
       "_view_name": "LayoutView",
       "align_content": null,
       "align_items": null,
       "align_self": null,
       "border": null,
       "bottom": null,
       "display": null,
       "flex": null,
       "flex_flow": null,
       "grid_area": null,
       "grid_auto_columns": null,
       "grid_auto_flow": null,
       "grid_auto_rows": null,
       "grid_column": null,
       "grid_gap": null,
       "grid_row": null,
       "grid_template_areas": null,
       "grid_template_columns": null,
       "grid_template_rows": null,
       "height": null,
       "justify_content": null,
       "justify_items": null,
       "left": null,
       "margin": null,
       "max_height": null,
       "max_width": null,
       "min_height": null,
       "min_width": null,
       "object_fit": null,
       "object_position": null,
       "order": null,
       "overflow": null,
       "overflow_x": null,
       "overflow_y": null,
       "padding": null,
       "right": null,
       "top": null,
       "visibility": null,
       "width": null
      }
     },
     "d6dc192cded4475c99e0fd89f12107f8": {
      "model_module": "@jupyter-widgets/base",
      "model_module_version": "1.2.0",
      "model_name": "LayoutModel",
      "state": {
       "_model_module": "@jupyter-widgets/base",
       "_model_module_version": "1.2.0",
       "_model_name": "LayoutModel",
       "_view_count": null,
       "_view_module": "@jupyter-widgets/base",
       "_view_module_version": "1.2.0",
       "_view_name": "LayoutView",
       "align_content": null,
       "align_items": null,
       "align_self": null,
       "border": null,
       "bottom": null,
       "display": null,
       "flex": null,
       "flex_flow": null,
       "grid_area": null,
       "grid_auto_columns": null,
       "grid_auto_flow": null,
       "grid_auto_rows": null,
       "grid_column": null,
       "grid_gap": null,
       "grid_row": null,
       "grid_template_areas": null,
       "grid_template_columns": null,
       "grid_template_rows": null,
       "height": null,
       "justify_content": null,
       "justify_items": null,
       "left": null,
       "margin": null,
       "max_height": null,
       "max_width": null,
       "min_height": null,
       "min_width": null,
       "object_fit": null,
       "object_position": null,
       "order": null,
       "overflow": null,
       "overflow_x": null,
       "overflow_y": null,
       "padding": null,
       "right": null,
       "top": null,
       "visibility": null,
       "width": null
      }
     },
     "e788622c63424a47a79134300d4aedc7": {
      "model_module": "@jupyter-widgets/controls",
      "model_module_version": "1.5.0",
      "model_name": "HTMLModel",
      "state": {
       "_dom_classes": [],
       "_model_module": "@jupyter-widgets/controls",
       "_model_module_version": "1.5.0",
       "_model_name": "HTMLModel",
       "_view_count": null,
       "_view_module": "@jupyter-widgets/controls",
       "_view_module_version": "1.5.0",
       "_view_name": "HTMLView",
       "description": "",
       "description_tooltip": null,
       "layout": "IPY_MODEL_491fdc471204492e8cc8ca43b669a498",
       "placeholder": "​",
       "style": "IPY_MODEL_9f205de869154210b58c7e565eeccc5f",
       "value": " 232k/232k [00:00&lt;00:00, 1.81MB/s]"
      }
     },
     "ee4404cb2dd24af4931bf8446b786c3b": {
      "model_module": "@jupyter-widgets/base",
      "model_module_version": "1.2.0",
      "model_name": "LayoutModel",
      "state": {
       "_model_module": "@jupyter-widgets/base",
       "_model_module_version": "1.2.0",
       "_model_name": "LayoutModel",
       "_view_count": null,
       "_view_module": "@jupyter-widgets/base",
       "_view_module_version": "1.2.0",
       "_view_name": "LayoutView",
       "align_content": null,
       "align_items": null,
       "align_self": null,
       "border": null,
       "bottom": null,
       "display": null,
       "flex": null,
       "flex_flow": null,
       "grid_area": null,
       "grid_auto_columns": null,
       "grid_auto_flow": null,
       "grid_auto_rows": null,
       "grid_column": null,
       "grid_gap": null,
       "grid_row": null,
       "grid_template_areas": null,
       "grid_template_columns": null,
       "grid_template_rows": null,
       "height": null,
       "justify_content": null,
       "justify_items": null,
       "left": null,
       "margin": null,
       "max_height": null,
       "max_width": null,
       "min_height": null,
       "min_width": null,
       "object_fit": null,
       "object_position": null,
       "order": null,
       "overflow": null,
       "overflow_x": null,
       "overflow_y": null,
       "padding": null,
       "right": null,
       "top": null,
       "visibility": null,
       "width": null
      }
     },
     "f387a7d73f434c329072d6c9f9d16d33": {
      "model_module": "@jupyter-widgets/controls",
      "model_module_version": "1.5.0",
      "model_name": "ProgressStyleModel",
      "state": {
       "_model_module": "@jupyter-widgets/controls",
       "_model_module_version": "1.5.0",
       "_model_name": "ProgressStyleModel",
       "_view_count": null,
       "_view_module": "@jupyter-widgets/base",
       "_view_module_version": "1.2.0",
       "_view_name": "StyleView",
       "bar_color": null,
       "description_width": ""
      }
     },
     "f79b5773039d426fb2301bc57c9715dc": {
      "model_module": "@jupyter-widgets/base",
      "model_module_version": "1.2.0",
      "model_name": "LayoutModel",
      "state": {
       "_model_module": "@jupyter-widgets/base",
       "_model_module_version": "1.2.0",
       "_model_name": "LayoutModel",
       "_view_count": null,
       "_view_module": "@jupyter-widgets/base",
       "_view_module_version": "1.2.0",
       "_view_name": "LayoutView",
       "align_content": null,
       "align_items": null,
       "align_self": null,
       "border": null,
       "bottom": null,
       "display": null,
       "flex": null,
       "flex_flow": null,
       "grid_area": null,
       "grid_auto_columns": null,
       "grid_auto_flow": null,
       "grid_auto_rows": null,
       "grid_column": null,
       "grid_gap": null,
       "grid_row": null,
       "grid_template_areas": null,
       "grid_template_columns": null,
       "grid_template_rows": null,
       "height": null,
       "justify_content": null,
       "justify_items": null,
       "left": null,
       "margin": null,
       "max_height": null,
       "max_width": null,
       "min_height": null,
       "min_width": null,
       "object_fit": null,
       "object_position": null,
       "order": null,
       "overflow": null,
       "overflow_x": null,
       "overflow_y": null,
       "padding": null,
       "right": null,
       "top": null,
       "visibility": null,
       "width": null
      }
     },
     "fc85e3354bdb437fbefba948d88fb37f": {
      "model_module": "@jupyter-widgets/controls",
      "model_module_version": "1.5.0",
      "model_name": "HBoxModel",
      "state": {
       "_dom_classes": [],
       "_model_module": "@jupyter-widgets/controls",
       "_model_module_version": "1.5.0",
       "_model_name": "HBoxModel",
       "_view_count": null,
       "_view_module": "@jupyter-widgets/controls",
       "_view_module_version": "1.5.0",
       "_view_name": "HBoxView",
       "box_style": "",
       "children": [
        "IPY_MODEL_2737b1f86d5b4dd69f4a82887d969908",
        "IPY_MODEL_3ebec1686fa649688989bf071b2773ab",
        "IPY_MODEL_53c52061c2ef4644b2f207c2b3b46005"
       ],
       "layout": "IPY_MODEL_48deb1ddfb9c44d58aa09c5d9c050c0b"
      }
     }
    },
    "version_major": 2,
    "version_minor": 0
   }
  }
 },
 "nbformat": 4,
 "nbformat_minor": 5
}
